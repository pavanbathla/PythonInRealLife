{
 "cells": [
  {
   "cell_type": "markdown",
   "metadata": {},
   "source": [
    "# Getting Data\n",
    "\n",
    "## Outline\n",
    "* Create from list, dictionary, etc. \n",
    "* Pandas DataReader\n",
    "* Excel: XLRD\n",
    "* Excel: pd.read_excel\n",
    "* Pyodbc\n",
    "* re\n",
    "* Text\n",
    "* HTML/XML\n"
   ]
  },
  {
   "cell_type": "code",
   "execution_count": 1,
   "metadata": {
    "collapsed": true
   },
   "outputs": [],
   "source": [
    "#initialize Pandas\n",
    "import pandas as pd\n",
    "\n",
    "#handling dates\n",
    "import datetime as dt\n",
    "import dateutil as dtu"
   ]
  },
  {
   "cell_type": "code",
   "execution_count": 4,
   "metadata": {
    "collapsed": true
   },
   "outputs": [],
   "source": [
    "#create some standard date ranges\n",
    "end_date = dt.datetime.today()\n",
    "timedelta = dt.timedelta(days=90)\n",
    "start_date = end_date - timedelta"
   ]
  },
  {
   "cell_type": "code",
   "execution_count": 5,
   "metadata": {
    "collapsed": true
   },
   "outputs": [],
   "source": [
    "#or using relativedata\n",
    "end_date = dt.datetime.today()\n",
    "timedelta = dtu.relativedelta.relativedelta(months=-3)\n",
    "start_date = end_date + timedelta"
   ]
  },
  {
   "cell_type": "markdown",
   "metadata": {},
   "source": [
    "## Pandas Data Reader"
   ]
  },
  {
   "cell_type": "code",
   "execution_count": 6,
   "metadata": {
    "collapsed": true
   },
   "outputs": [],
   "source": [
    "import pandas_datareader.data as web"
   ]
  },
  {
   "cell_type": "code",
   "execution_count": 10,
   "metadata": {
    "collapsed": false
   },
   "outputs": [
    {
     "data": {
      "text/html": [
       "<div>\n",
       "<table border=\"1\" class=\"dataframe\">\n",
       "  <thead>\n",
       "    <tr style=\"text-align: right;\">\n",
       "      <th></th>\n",
       "      <th>Open</th>\n",
       "      <th>High</th>\n",
       "      <th>Low</th>\n",
       "      <th>Close</th>\n",
       "      <th>Volume</th>\n",
       "    </tr>\n",
       "    <tr>\n",
       "      <th>Date</th>\n",
       "      <th></th>\n",
       "      <th></th>\n",
       "      <th></th>\n",
       "      <th></th>\n",
       "      <th></th>\n",
       "    </tr>\n",
       "  </thead>\n",
       "  <tbody>\n",
       "    <tr>\n",
       "      <th>2016-04-12</th>\n",
       "      <td>74.17</td>\n",
       "      <td>76.16</td>\n",
       "      <td>73.86</td>\n",
       "      <td>75.90</td>\n",
       "      <td>8223410</td>\n",
       "    </tr>\n",
       "    <tr>\n",
       "      <th>2016-04-13</th>\n",
       "      <td>75.98</td>\n",
       "      <td>77.55</td>\n",
       "      <td>75.70</td>\n",
       "      <td>77.37</td>\n",
       "      <td>8635008</td>\n",
       "    </tr>\n",
       "  </tbody>\n",
       "</table>\n",
       "</div>"
      ],
      "text/plain": [
       "             Open   High    Low  Close   Volume\n",
       "Date                                           \n",
       "2016-04-12  74.17  76.16  73.86  75.90  8223410\n",
       "2016-04-13  75.98  77.55  75.70  77.37  8635008"
      ]
     },
     "execution_count": 10,
     "metadata": {},
     "output_type": "execute_result"
    }
   ],
   "source": [
    "df = web.DataReader(\"SLB\", 'google', start_date, end_date)\n",
    "df.tail(2)"
   ]
  },
  {
   "cell_type": "markdown",
   "metadata": {},
   "source": [
    "## Excel Reader\n",
    "\n",
    "http://data.gov  \n",
    "http://catalog.data.gov/dataset?bureauCode=019%3A20  \n",
    "U.S. Distribution and Production of Oil and Gas Wells"
   ]
  },
  {
   "cell_type": "code",
   "execution_count": 44,
   "metadata": {
    "collapsed": true
   },
   "outputs": [],
   "source": [
    "import xlrd"
   ]
  },
  {
   "cell_type": "code",
   "execution_count": 48,
   "metadata": {
    "collapsed": false
   },
   "outputs": [
    {
     "data": {
      "text/plain": [
       "('ALL_STATES_ALL_YRS_BOE', 11, 37313)"
      ]
     },
     "execution_count": 48,
     "metadata": {},
     "output_type": "execute_result"
    }
   ],
   "source": [
    "flnm = r'./allyearsstates.xls'\n",
    "wkbk = xlrd.open_workbook(flnm)\n",
    "wksheets = wkbk.sheets()\n",
    "sheet = wksheets[0]\n",
    "sheet.name, sheet.ncols, sheet.nrows"
   ]
  },
  {
   "cell_type": "code",
   "execution_count": 50,
   "metadata": {
    "collapsed": false
   },
   "outputs": [
    {
     "data": {
      "text/plain": [
       "('state', 0.0)"
      ]
     },
     "execution_count": 50,
     "metadata": {},
     "output_type": "execute_result"
    }
   ],
   "source": [
    "maxcols = sheet.ncols\n",
    "maxrows = sheet.nrows\n",
    "sheet.cell_value(0,0), sheet.cell_value(maxrows-1, maxcols-1)"
   ]
  },
  {
   "cell_type": "markdown",
   "metadata": {},
   "source": [
    "## Pandas - pd.read_excel"
   ]
  },
  {
   "cell_type": "code",
   "execution_count": 38,
   "metadata": {
    "collapsed": false
   },
   "outputs": [],
   "source": [
    "df = pd.read_excel(flnm)"
   ]
  },
  {
   "cell_type": "code",
   "execution_count": 43,
   "metadata": {
    "collapsed": false
   },
   "outputs": [
    {
     "data": {
      "text/html": [
       "<div>\n",
       "<table border=\"1\" class=\"dataframe\">\n",
       "  <thead>\n",
       "    <tr style=\"text-align: right;\">\n",
       "      <th></th>\n",
       "      <th>state</th>\n",
       "      <th>prod_year</th>\n",
       "      <th>rate_class</th>\n",
       "      <th>num_oil_wells</th>\n",
       "      <th>oil_prod_BBL</th>\n",
       "      <th>ADgas_prod_MCF</th>\n",
       "      <th>oil_wells_dayson</th>\n",
       "      <th>num_gas_wells</th>\n",
       "      <th>NAgas_prod_MCF</th>\n",
       "      <th>conden_prod_BBL</th>\n",
       "      <th>gas_wells_dayson</th>\n",
       "    </tr>\n",
       "  </thead>\n",
       "  <tbody>\n",
       "    <tr>\n",
       "      <th>37310</th>\n",
       "      <td>WY</td>\n",
       "      <td>1974</td>\n",
       "      <td>21</td>\n",
       "      <td>0</td>\n",
       "      <td>0</td>\n",
       "      <td>0</td>\n",
       "      <td>0</td>\n",
       "      <td>0</td>\n",
       "      <td>0</td>\n",
       "      <td>0</td>\n",
       "      <td>0</td>\n",
       "    </tr>\n",
       "    <tr>\n",
       "      <th>37311</th>\n",
       "      <td>WY</td>\n",
       "      <td>1974</td>\n",
       "      <td>22</td>\n",
       "      <td>0</td>\n",
       "      <td>0</td>\n",
       "      <td>0</td>\n",
       "      <td>0</td>\n",
       "      <td>0</td>\n",
       "      <td>0</td>\n",
       "      <td>0</td>\n",
       "      <td>0</td>\n",
       "    </tr>\n",
       "  </tbody>\n",
       "</table>\n",
       "</div>"
      ],
      "text/plain": [
       "      state  prod_year  rate_class  num_oil_wells  oil_prod_BBL  \\\n",
       "37310    WY       1974          21              0             0   \n",
       "37311    WY       1974          22              0             0   \n",
       "\n",
       "       ADgas_prod_MCF  oil_wells_dayson  num_gas_wells  NAgas_prod_MCF  \\\n",
       "37310               0                 0              0               0   \n",
       "37311               0                 0              0               0   \n",
       "\n",
       "       conden_prod_BBL  gas_wells_dayson  \n",
       "37310                0                 0  \n",
       "37311                0                 0  "
      ]
     },
     "execution_count": 43,
     "metadata": {},
     "output_type": "execute_result"
    }
   ],
   "source": [
    "df.tail(2)"
   ]
  }
 ],
 "metadata": {
  "kernelspec": {
   "display_name": "Python 3",
   "language": "python",
   "name": "python3"
  },
  "language_info": {
   "codemirror_mode": {
    "name": "ipython",
    "version": 3
   },
   "file_extension": ".py",
   "mimetype": "text/x-python",
   "name": "python",
   "nbconvert_exporter": "python",
   "pygments_lexer": "ipython3",
   "version": "3.5.1"
  }
 },
 "nbformat": 4,
 "nbformat_minor": 0
}
