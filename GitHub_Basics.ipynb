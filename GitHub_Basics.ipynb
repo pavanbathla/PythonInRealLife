{
 "cells": [
  {
   "cell_type": "markdown",
   "metadata": {},
   "source": [
    "\n",
    "## Git Basics\n",
    "\n",
    "**Create new repo:**\n",
    "`git init`\n",
    "\n",
    "**Add file to repo:** \n",
    "`git add (filename)`  or  `git add *`\n",
    "\n",
    "**Commit changes:** \n",
    "`git commit -m \"Commit message\"`\n",
    "\n",
    "**Create New Remote Repository:**\n",
    "`git remote add origin https://github.com/<username>/<reponame>.git`\n",
    "\n",
    "**Verify new repo exists:** `git remote -v`\n",
    "\n",
    "**Push changes to server:** \n",
    "`git push origin master`\n",
    "\n",
    "**Pull newest versions:** \n",
    "`git pull`\n",
    "\n",
    "**Checkout existing repo:** \n",
    "`git clone /path/to/repo`\n",
    "\n",
    "**Check for changes between versions:** \n",
    "`git diff (source_branch) (target_branch)`\n"
   ]
  },
  {
   "cell_type": "code",
   "execution_count": null,
   "metadata": {
    "collapsed": true
   },
   "outputs": [],
   "source": []
  }
 ],
 "metadata": {
  "kernelspec": {
   "display_name": "Python 3",
   "language": "python",
   "name": "python3"
  },
  "language_info": {
   "codemirror_mode": {
    "name": "ipython",
    "version": 3
   },
   "file_extension": ".py",
   "mimetype": "text/x-python",
   "name": "python",
   "nbconvert_exporter": "python",
   "pygments_lexer": "ipython3",
   "version": "3.5.1"
  }
 },
 "nbformat": 4,
 "nbformat_minor": 0
}
