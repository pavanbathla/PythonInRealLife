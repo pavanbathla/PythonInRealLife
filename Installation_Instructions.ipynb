{
 "cells": [
  {
   "cell_type": "markdown",
   "metadata": {},
   "source": [
    "## Mac OSX 10.10.5\n",
    "\n",
    "* Install Anaconda:\n",
    "`https://www.continuum.io/downloads`\n",
    "* Install SublimeText:\n",
    "`http://www.sublimetext.com/2`\n",
    "* Install pip\n",
    "`sudo easy_install pip`\n",
    "* install git\n",
    "`https://git-scm.com/downloads`\n",
    "        \n",
    "### Using PIP (universal Python package installer):\n",
    "**Anaconda comes with a version**  \n",
    "\n",
    "    conda install <package>\n",
    "**Standard install version**  \n",
    "\n",
    "    pip install <package>\n",
    "    pip upgrade -all\n",
    "    \n",
    "    \n",
    "### Jupyter Interactive Notebook \n",
    "** Installed with Anaconda **\n",
    "* In terminal, navigate to repository: \n",
    "        cd Documents/git_repo\n",
    "* Invoke Jupyter:  \n",
    "        jupyter notebook\n",
    "    ** *browser automatically opens at Jupyter Home:**  http://localhost:8888/tree\n",
    "* Create new Python notebook\n",
    "    * Can be used also for terminal, folder, markdown, and text files"
   ]
  },
  {
   "cell_type": "code",
   "execution_count": null,
   "metadata": {
    "collapsed": true
   },
   "outputs": [],
   "source": []
  }
 ],
 "metadata": {
  "kernelspec": {
   "display_name": "Python 3",
   "language": "python",
   "name": "python3"
  },
  "language_info": {
   "codemirror_mode": {
    "name": "ipython",
    "version": 3
   },
   "file_extension": ".py",
   "mimetype": "text/x-python",
   "name": "python",
   "nbconvert_exporter": "python",
   "pygments_lexer": "ipython3",
   "version": "3.5.1"
  }
 },
 "nbformat": 4,
 "nbformat_minor": 0
}
